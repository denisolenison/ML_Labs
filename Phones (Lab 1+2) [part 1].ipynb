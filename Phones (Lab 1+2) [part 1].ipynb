{
 "cells": [
  {
   "cell_type": "markdown",
   "metadata": {},
   "source": [
    "Импортируем нужные библиотеки и подготавливаем датасет"
   ]
  },
  {
   "cell_type": "code",
   "execution_count": 792,
   "metadata": {},
   "outputs": [],
   "source": [
    "import pandas as pd\n",
    "import math\n",
    "import matplotlib.pyplot as plt\n",
    "import csv\n",
    "%matplotlib inline\n",
    "\n",
    "import seaborn as sns\n",
    "sns.set()\n",
    "import warnings\n",
    "warnings.filterwarnings(\"ignore\")\n",
    "\n",
    "import numpy as np\n",
    "import scipy.stats as ss\n",
    "\n",
    "from collections import Counter\n",
    "import math"
   ]
  },
  {
   "cell_type": "code",
   "execution_count": 793,
   "metadata": {},
   "outputs": [
    {
     "data": {
      "text/html": [
       "<div>\n",
       "<style scoped>\n",
       "    .dataframe tbody tr th:only-of-type {\n",
       "        vertical-align: middle;\n",
       "    }\n",
       "\n",
       "    .dataframe tbody tr th {\n",
       "        vertical-align: top;\n",
       "    }\n",
       "\n",
       "    .dataframe thead th {\n",
       "        text-align: right;\n",
       "    }\n",
       "</style>\n",
       "<table border=\"1\" class=\"dataframe\">\n",
       "  <thead>\n",
       "    <tr style=\"text-align: right;\">\n",
       "      <th></th>\n",
       "      <th>battery_power</th>\n",
       "      <th>blue</th>\n",
       "      <th>clock_speed</th>\n",
       "      <th>dual_sim</th>\n",
       "      <th>fc</th>\n",
       "      <th>four_g</th>\n",
       "      <th>int_memory</th>\n",
       "      <th>m_dep</th>\n",
       "      <th>mobile_wt</th>\n",
       "      <th>n_cores</th>\n",
       "      <th>...</th>\n",
       "      <th>px_height</th>\n",
       "      <th>px_width</th>\n",
       "      <th>ram</th>\n",
       "      <th>sc_h</th>\n",
       "      <th>sc_w</th>\n",
       "      <th>talk_time</th>\n",
       "      <th>three_g</th>\n",
       "      <th>touch_screen</th>\n",
       "      <th>wifi</th>\n",
       "      <th>price_range</th>\n",
       "    </tr>\n",
       "  </thead>\n",
       "  <tbody>\n",
       "    <tr>\n",
       "      <th>0</th>\n",
       "      <td>842</td>\n",
       "      <td>0</td>\n",
       "      <td>2.2</td>\n",
       "      <td>0</td>\n",
       "      <td>1</td>\n",
       "      <td>0</td>\n",
       "      <td>7</td>\n",
       "      <td>0.6</td>\n",
       "      <td>188</td>\n",
       "      <td>2</td>\n",
       "      <td>...</td>\n",
       "      <td>20</td>\n",
       "      <td>756</td>\n",
       "      <td>2549</td>\n",
       "      <td>9</td>\n",
       "      <td>7</td>\n",
       "      <td>19</td>\n",
       "      <td>0</td>\n",
       "      <td>0</td>\n",
       "      <td>1</td>\n",
       "      <td>1</td>\n",
       "    </tr>\n",
       "    <tr>\n",
       "      <th>1</th>\n",
       "      <td>1021</td>\n",
       "      <td>1</td>\n",
       "      <td>0.5</td>\n",
       "      <td>1</td>\n",
       "      <td>0</td>\n",
       "      <td>1</td>\n",
       "      <td>53</td>\n",
       "      <td>0.7</td>\n",
       "      <td>136</td>\n",
       "      <td>3</td>\n",
       "      <td>...</td>\n",
       "      <td>905</td>\n",
       "      <td>1988</td>\n",
       "      <td>2631</td>\n",
       "      <td>17</td>\n",
       "      <td>3</td>\n",
       "      <td>7</td>\n",
       "      <td>1</td>\n",
       "      <td>1</td>\n",
       "      <td>0</td>\n",
       "      <td>2</td>\n",
       "    </tr>\n",
       "    <tr>\n",
       "      <th>2</th>\n",
       "      <td>563</td>\n",
       "      <td>1</td>\n",
       "      <td>0.5</td>\n",
       "      <td>1</td>\n",
       "      <td>2</td>\n",
       "      <td>1</td>\n",
       "      <td>41</td>\n",
       "      <td>0.9</td>\n",
       "      <td>145</td>\n",
       "      <td>5</td>\n",
       "      <td>...</td>\n",
       "      <td>1263</td>\n",
       "      <td>1716</td>\n",
       "      <td>2603</td>\n",
       "      <td>11</td>\n",
       "      <td>2</td>\n",
       "      <td>9</td>\n",
       "      <td>1</td>\n",
       "      <td>1</td>\n",
       "      <td>0</td>\n",
       "      <td>2</td>\n",
       "    </tr>\n",
       "    <tr>\n",
       "      <th>3</th>\n",
       "      <td>615</td>\n",
       "      <td>1</td>\n",
       "      <td>2.5</td>\n",
       "      <td>0</td>\n",
       "      <td>0</td>\n",
       "      <td>0</td>\n",
       "      <td>10</td>\n",
       "      <td>0.8</td>\n",
       "      <td>131</td>\n",
       "      <td>6</td>\n",
       "      <td>...</td>\n",
       "      <td>1216</td>\n",
       "      <td>1786</td>\n",
       "      <td>2769</td>\n",
       "      <td>16</td>\n",
       "      <td>8</td>\n",
       "      <td>11</td>\n",
       "      <td>1</td>\n",
       "      <td>0</td>\n",
       "      <td>0</td>\n",
       "      <td>2</td>\n",
       "    </tr>\n",
       "    <tr>\n",
       "      <th>4</th>\n",
       "      <td>1821</td>\n",
       "      <td>1</td>\n",
       "      <td>1.2</td>\n",
       "      <td>0</td>\n",
       "      <td>13</td>\n",
       "      <td>1</td>\n",
       "      <td>44</td>\n",
       "      <td>0.6</td>\n",
       "      <td>141</td>\n",
       "      <td>2</td>\n",
       "      <td>...</td>\n",
       "      <td>1208</td>\n",
       "      <td>1212</td>\n",
       "      <td>1411</td>\n",
       "      <td>8</td>\n",
       "      <td>2</td>\n",
       "      <td>15</td>\n",
       "      <td>1</td>\n",
       "      <td>1</td>\n",
       "      <td>0</td>\n",
       "      <td>1</td>\n",
       "    </tr>\n",
       "  </tbody>\n",
       "</table>\n",
       "<p>5 rows × 21 columns</p>\n",
       "</div>"
      ],
      "text/plain": [
       "   battery_power  blue  clock_speed  dual_sim  fc  four_g  int_memory  m_dep  \\\n",
       "0            842     0          2.2         0   1       0           7    0.6   \n",
       "1           1021     1          0.5         1   0       1          53    0.7   \n",
       "2            563     1          0.5         1   2       1          41    0.9   \n",
       "3            615     1          2.5         0   0       0          10    0.8   \n",
       "4           1821     1          1.2         0  13       1          44    0.6   \n",
       "\n",
       "   mobile_wt  n_cores  ...  px_height  px_width   ram  sc_h  sc_w  talk_time  \\\n",
       "0        188        2  ...         20       756  2549     9     7         19   \n",
       "1        136        3  ...        905      1988  2631    17     3          7   \n",
       "2        145        5  ...       1263      1716  2603    11     2          9   \n",
       "3        131        6  ...       1216      1786  2769    16     8         11   \n",
       "4        141        2  ...       1208      1212  1411     8     2         15   \n",
       "\n",
       "   three_g  touch_screen  wifi  price_range  \n",
       "0        0             0     1            1  \n",
       "1        1             1     0            2  \n",
       "2        1             1     0            2  \n",
       "3        1             0     0            2  \n",
       "4        1             1     0            1  \n",
       "\n",
       "[5 rows x 21 columns]"
      ]
     },
     "execution_count": 793,
     "metadata": {},
     "output_type": "execute_result"
    }
   ],
   "source": [
    "df = pd.read_csv(\"phoneCost-train.csv\").drop_duplicates()\n",
    "df.head()"
   ]
  },
  {
   "cell_type": "code",
   "execution_count": 794,
   "metadata": {},
   "outputs": [
    {
     "name": "stdout",
     "output_type": "stream",
     "text": [
      "<class 'pandas.core.frame.DataFrame'>\n",
      "Int64Index: 2000 entries, 0 to 1999\n",
      "Data columns (total 21 columns):\n",
      " #   Column         Non-Null Count  Dtype  \n",
      "---  ------         --------------  -----  \n",
      " 0   battery_power  2000 non-null   int64  \n",
      " 1   blue           2000 non-null   int64  \n",
      " 2   clock_speed    2000 non-null   float64\n",
      " 3   dual_sim       2000 non-null   int64  \n",
      " 4   fc             2000 non-null   int64  \n",
      " 5   four_g         2000 non-null   int64  \n",
      " 6   int_memory     2000 non-null   int64  \n",
      " 7   m_dep          2000 non-null   float64\n",
      " 8   mobile_wt      2000 non-null   int64  \n",
      " 9   n_cores        2000 non-null   int64  \n",
      " 10  pc             2000 non-null   int64  \n",
      " 11  px_height      2000 non-null   int64  \n",
      " 12  px_width       2000 non-null   int64  \n",
      " 13  ram            2000 non-null   int64  \n",
      " 14  sc_h           2000 non-null   int64  \n",
      " 15  sc_w           2000 non-null   int64  \n",
      " 16  talk_time      2000 non-null   int64  \n",
      " 17  three_g        2000 non-null   int64  \n",
      " 18  touch_screen   2000 non-null   int64  \n",
      " 19  wifi           2000 non-null   int64  \n",
      " 20  price_range    2000 non-null   int64  \n",
      "dtypes: float64(2), int64(19)\n",
      "memory usage: 343.8 KB\n"
     ]
    }
   ],
   "source": [
    "df.info()"
   ]
  },
  {
   "cell_type": "markdown",
   "metadata": {},
   "source": [
    "Очень много различных значений. Удобно будет если разделить их на классы, например, округлив. Диаграммы будут выглядеть лучше."
   ]
  },
  {
   "cell_type": "code",
   "execution_count": 795,
   "metadata": {},
   "outputs": [],
   "source": [
    "def roundate(num, x):\n",
    "    num = float(num)\n",
    "    num /= 10**x\n",
    "    num = round(num,0)\n",
    "    num *= 10**x\n",
    "    return str(int(num))\n",
    "\n",
    "def roundate_custom(num, p):\n",
    "    num = float(num)\n",
    "    num /= p\n",
    "    num = round(num,0)\n",
    "    num *= p\n",
    "    return str(int(num))\n",
    "\n",
    "listX = [['battery_power', 'blue', 'clock_speed', 'dual_sim', 'fc', 'four_g', 'int_memory', 'm_dep', 'mobile_wt',\n",
    "         'n_cores','pc', 'px_height', 'px_width', 'ram', 'sc_h', 'sc_w', 'talk_time', 'three_g', 'touch_screen',\n",
    "         'wifi', 'price_range']]\n",
    "with open('phoneCost-train.csv') as f:\n",
    "    reader = csv.reader(f)\n",
    "    for row in reader:\n",
    "      tmp = row[0]\n",
    "      if tmp.isdigit():\n",
    "          row[0] = roundate(row[0], 2)\n",
    "          if int(row[6]) > 4:\n",
    "              row[6] = str(int(roundate_custom(row[6], 2)))\n",
    "          row[8] = roundate(row[8], 1)\n",
    "          row[11] = roundate(row[11], 2)\n",
    "          row[12] = roundate(row[12], 2)\n",
    "          row[13] = roundate(row[13], 2)\n",
    "          listX.append(row)"
   ]
  },
  {
   "cell_type": "code",
   "execution_count": 797,
   "metadata": {},
   "outputs": [
    {
     "ename": "PermissionError",
     "evalue": "[Errno 13] Permission denied: 'phoneCost_new.csv'",
     "output_type": "error",
     "traceback": [
      "\u001b[1;31m---------------------------------------------------------------------------\u001b[0m",
      "\u001b[1;31mPermissionError\u001b[0m                           Traceback (most recent call last)",
      "\u001b[1;32m<ipython-input-797-2ca1ec31e76f>\u001b[0m in \u001b[0;36m<module>\u001b[1;34m\u001b[0m\n\u001b[1;32m----> 1\u001b[1;33m \u001b[1;32mwith\u001b[0m \u001b[0mopen\u001b[0m\u001b[1;33m(\u001b[0m\u001b[1;34m'phoneCost_new.csv'\u001b[0m\u001b[1;33m,\u001b[0m \u001b[1;34m'w'\u001b[0m\u001b[1;33m)\u001b[0m \u001b[1;32mas\u001b[0m \u001b[0mf\u001b[0m\u001b[1;33m:\u001b[0m\u001b[1;33m\u001b[0m\u001b[1;33m\u001b[0m\u001b[0m\n\u001b[0m\u001b[0;32m      2\u001b[0m     \u001b[0mwriter\u001b[0m \u001b[1;33m=\u001b[0m \u001b[0mcsv\u001b[0m\u001b[1;33m.\u001b[0m\u001b[0mwriter\u001b[0m\u001b[1;33m(\u001b[0m\u001b[0mf\u001b[0m\u001b[1;33m)\u001b[0m\u001b[1;33m\u001b[0m\u001b[1;33m\u001b[0m\u001b[0m\n\u001b[0;32m      3\u001b[0m     \u001b[1;32mfor\u001b[0m \u001b[0mrow\u001b[0m \u001b[1;32min\u001b[0m \u001b[0mlistX\u001b[0m\u001b[1;33m:\u001b[0m\u001b[1;33m\u001b[0m\u001b[1;33m\u001b[0m\u001b[0m\n\u001b[0;32m      4\u001b[0m         \u001b[0mwriter\u001b[0m\u001b[1;33m.\u001b[0m\u001b[0mwriterow\u001b[0m\u001b[1;33m(\u001b[0m\u001b[0mrow\u001b[0m\u001b[1;33m)\u001b[0m\u001b[1;33m\u001b[0m\u001b[1;33m\u001b[0m\u001b[0m\n",
      "\u001b[1;31mPermissionError\u001b[0m: [Errno 13] Permission denied: 'phoneCost_new.csv'"
     ]
    }
   ],
   "source": [
    "with open('phoneCost_new.csv', 'w') as f:\n",
    "    writer = csv.writer(f)\n",
    "    for row in listX:\n",
    "        writer.writerow(row)"
   ]
  },
  {
   "cell_type": "code",
   "execution_count": 799,
   "metadata": {},
   "outputs": [
    {
     "data": {
      "text/html": [
       "<div>\n",
       "<style scoped>\n",
       "    .dataframe tbody tr th:only-of-type {\n",
       "        vertical-align: middle;\n",
       "    }\n",
       "\n",
       "    .dataframe tbody tr th {\n",
       "        vertical-align: top;\n",
       "    }\n",
       "\n",
       "    .dataframe thead th {\n",
       "        text-align: right;\n",
       "    }\n",
       "</style>\n",
       "<table border=\"1\" class=\"dataframe\">\n",
       "  <thead>\n",
       "    <tr style=\"text-align: right;\">\n",
       "      <th></th>\n",
       "      <th>battery_power</th>\n",
       "      <th>blue</th>\n",
       "      <th>clock_speed</th>\n",
       "      <th>dual_sim</th>\n",
       "      <th>fc</th>\n",
       "      <th>four_g</th>\n",
       "      <th>int_memory</th>\n",
       "      <th>m_dep</th>\n",
       "      <th>mobile_wt</th>\n",
       "      <th>n_cores</th>\n",
       "      <th>...</th>\n",
       "      <th>px_height</th>\n",
       "      <th>px_width</th>\n",
       "      <th>ram</th>\n",
       "      <th>sc_h</th>\n",
       "      <th>sc_w</th>\n",
       "      <th>talk_time</th>\n",
       "      <th>three_g</th>\n",
       "      <th>touch_screen</th>\n",
       "      <th>wifi</th>\n",
       "      <th>price_range</th>\n",
       "    </tr>\n",
       "  </thead>\n",
       "  <tbody>\n",
       "    <tr>\n",
       "      <th>0</th>\n",
       "      <td>800</td>\n",
       "      <td>0</td>\n",
       "      <td>2.2</td>\n",
       "      <td>0</td>\n",
       "      <td>1</td>\n",
       "      <td>0</td>\n",
       "      <td>8</td>\n",
       "      <td>0.6</td>\n",
       "      <td>190</td>\n",
       "      <td>2</td>\n",
       "      <td>...</td>\n",
       "      <td>0</td>\n",
       "      <td>800</td>\n",
       "      <td>2500</td>\n",
       "      <td>9</td>\n",
       "      <td>7</td>\n",
       "      <td>19</td>\n",
       "      <td>0</td>\n",
       "      <td>0</td>\n",
       "      <td>1</td>\n",
       "      <td>1</td>\n",
       "    </tr>\n",
       "    <tr>\n",
       "      <th>1</th>\n",
       "      <td>1000</td>\n",
       "      <td>1</td>\n",
       "      <td>0.5</td>\n",
       "      <td>1</td>\n",
       "      <td>0</td>\n",
       "      <td>1</td>\n",
       "      <td>52</td>\n",
       "      <td>0.7</td>\n",
       "      <td>140</td>\n",
       "      <td>3</td>\n",
       "      <td>...</td>\n",
       "      <td>900</td>\n",
       "      <td>2000</td>\n",
       "      <td>2600</td>\n",
       "      <td>17</td>\n",
       "      <td>3</td>\n",
       "      <td>7</td>\n",
       "      <td>1</td>\n",
       "      <td>1</td>\n",
       "      <td>0</td>\n",
       "      <td>2</td>\n",
       "    </tr>\n",
       "    <tr>\n",
       "      <th>2</th>\n",
       "      <td>600</td>\n",
       "      <td>1</td>\n",
       "      <td>0.5</td>\n",
       "      <td>1</td>\n",
       "      <td>2</td>\n",
       "      <td>1</td>\n",
       "      <td>40</td>\n",
       "      <td>0.9</td>\n",
       "      <td>140</td>\n",
       "      <td>5</td>\n",
       "      <td>...</td>\n",
       "      <td>1300</td>\n",
       "      <td>1700</td>\n",
       "      <td>2600</td>\n",
       "      <td>11</td>\n",
       "      <td>2</td>\n",
       "      <td>9</td>\n",
       "      <td>1</td>\n",
       "      <td>1</td>\n",
       "      <td>0</td>\n",
       "      <td>2</td>\n",
       "    </tr>\n",
       "    <tr>\n",
       "      <th>3</th>\n",
       "      <td>600</td>\n",
       "      <td>1</td>\n",
       "      <td>2.5</td>\n",
       "      <td>0</td>\n",
       "      <td>0</td>\n",
       "      <td>0</td>\n",
       "      <td>10</td>\n",
       "      <td>0.8</td>\n",
       "      <td>130</td>\n",
       "      <td>6</td>\n",
       "      <td>...</td>\n",
       "      <td>1200</td>\n",
       "      <td>1800</td>\n",
       "      <td>2800</td>\n",
       "      <td>16</td>\n",
       "      <td>8</td>\n",
       "      <td>11</td>\n",
       "      <td>1</td>\n",
       "      <td>0</td>\n",
       "      <td>0</td>\n",
       "      <td>2</td>\n",
       "    </tr>\n",
       "    <tr>\n",
       "      <th>4</th>\n",
       "      <td>1800</td>\n",
       "      <td>1</td>\n",
       "      <td>1.2</td>\n",
       "      <td>0</td>\n",
       "      <td>13</td>\n",
       "      <td>1</td>\n",
       "      <td>44</td>\n",
       "      <td>0.6</td>\n",
       "      <td>140</td>\n",
       "      <td>2</td>\n",
       "      <td>...</td>\n",
       "      <td>1200</td>\n",
       "      <td>1200</td>\n",
       "      <td>1400</td>\n",
       "      <td>8</td>\n",
       "      <td>2</td>\n",
       "      <td>15</td>\n",
       "      <td>1</td>\n",
       "      <td>1</td>\n",
       "      <td>0</td>\n",
       "      <td>1</td>\n",
       "    </tr>\n",
       "  </tbody>\n",
       "</table>\n",
       "<p>5 rows × 21 columns</p>\n",
       "</div>"
      ],
      "text/plain": [
       "   battery_power  blue  clock_speed  dual_sim  fc  four_g  int_memory  m_dep  \\\n",
       "0            800     0          2.2         0   1       0           8    0.6   \n",
       "1           1000     1          0.5         1   0       1          52    0.7   \n",
       "2            600     1          0.5         1   2       1          40    0.9   \n",
       "3            600     1          2.5         0   0       0          10    0.8   \n",
       "4           1800     1          1.2         0  13       1          44    0.6   \n",
       "\n",
       "   mobile_wt  n_cores  ...  px_height  px_width   ram  sc_h  sc_w  talk_time  \\\n",
       "0        190        2  ...          0       800  2500     9     7         19   \n",
       "1        140        3  ...        900      2000  2600    17     3          7   \n",
       "2        140        5  ...       1300      1700  2600    11     2          9   \n",
       "3        130        6  ...       1200      1800  2800    16     8         11   \n",
       "4        140        2  ...       1200      1200  1400     8     2         15   \n",
       "\n",
       "   three_g  touch_screen  wifi  price_range  \n",
       "0        0             0     1            1  \n",
       "1        1             1     0            2  \n",
       "2        1             1     0            2  \n",
       "3        1             0     0            2  \n",
       "4        1             1     0            1  \n",
       "\n",
       "[5 rows x 21 columns]"
      ]
     },
     "execution_count": 799,
     "metadata": {},
     "output_type": "execute_result"
    }
   ],
   "source": [
    "df = pd.read_csv('phoneCost_new.csv')\n",
    "\n",
    "def binary(t, x):\n",
    "    if t >= x:\n",
    "        return 1\n",
    "    else:\n",
    "        return 0\n",
    "\n",
    "df.head()"
   ]
  },
  {
   "cell_type": "code",
   "execution_count": 800,
   "metadata": {},
   "outputs": [
    {
     "name": "stdout",
     "output_type": "stream",
     "text": [
      "<class 'pandas.core.frame.DataFrame'>\n",
      "RangeIndex: 2000 entries, 0 to 1999\n",
      "Data columns (total 21 columns):\n",
      " #   Column         Non-Null Count  Dtype  \n",
      "---  ------         --------------  -----  \n",
      " 0   battery_power  2000 non-null   int64  \n",
      " 1   blue           2000 non-null   int64  \n",
      " 2   clock_speed    2000 non-null   float64\n",
      " 3   dual_sim       2000 non-null   int64  \n",
      " 4   fc             2000 non-null   int64  \n",
      " 5   four_g         2000 non-null   int64  \n",
      " 6   int_memory     2000 non-null   int64  \n",
      " 7   m_dep          2000 non-null   float64\n",
      " 8   mobile_wt      2000 non-null   int64  \n",
      " 9   n_cores        2000 non-null   int64  \n",
      " 10  pc             2000 non-null   int64  \n",
      " 11  px_height      2000 non-null   int64  \n",
      " 12  px_width       2000 non-null   int64  \n",
      " 13  ram            2000 non-null   int64  \n",
      " 14  sc_h           2000 non-null   int64  \n",
      " 15  sc_w           2000 non-null   int64  \n",
      " 16  talk_time      2000 non-null   int64  \n",
      " 17  three_g        2000 non-null   int64  \n",
      " 18  touch_screen   2000 non-null   int64  \n",
      " 19  wifi           2000 non-null   int64  \n",
      " 20  price_range    2000 non-null   int64  \n",
      "dtypes: float64(2), int64(19)\n",
      "memory usage: 328.2 KB\n"
     ]
    }
   ],
   "source": [
    "df.info()"
   ]
  },
  {
   "cell_type": "markdown",
   "metadata": {},
   "source": [
    "Пишем функции для работы с хитмапами"
   ]
  },
  {
   "cell_type": "code",
   "execution_count": 801,
   "metadata": {},
   "outputs": [],
   "source": [
    "def cramers_v(x, y):\n",
    "    confusion_matrix = pd.crosstab(x,y)\n",
    "    chi2 = ss.chi2_contingency(confusion_matrix)[0]\n",
    "    n = confusion_matrix.sum().sum()\n",
    "    phi2 = chi2/n\n",
    "    r,k = confusion_matrix.shape\n",
    "    phi2corr = max(0, phi2-((k-1)*(r-1))/(n-1))\n",
    "    rcorr = r-((r-1)**2)/(n-1)\n",
    "    kcorr = k-((k-1)**2)/(n-1)\n",
    "    return np.sqrt(phi2corr/min((kcorr-1),(rcorr-1)))\n",
    "\n",
    "def conditional_entropy(x,y):\n",
    "    # entropy of x given y\n",
    "    y_counter = Counter(y)\n",
    "    xy_counter = Counter(list(zip(x,y)))\n",
    "    total_occurrences = sum(y_counter.values())\n",
    "    entropy = 0\n",
    "    for xy in xy_counter.keys():\n",
    "        p_xy = xy_counter[xy] / total_occurrences\n",
    "        p_y = y_counter[xy[1]] / total_occurrences\n",
    "        entropy += p_xy * math.log(p_y/p_xy)\n",
    "    return entropy\n",
    "\n",
    "def theils_u(x, y):\n",
    "    s_xy = conditional_entropy(x,y)\n",
    "    x_counter = Counter(x)\n",
    "    total_occurrences = sum(x_counter.values())\n",
    "    p_x = list(map(lambda n: n/total_occurrences, x_counter.values()))\n",
    "    s_x = ss.entropy(p_x)\n",
    "    if s_x == 0:\n",
    "        return 1\n",
    "    else:\n",
    "        return (s_x - s_xy) / s_x\n",
    "\n",
    "def apply(df, f):\n",
    "    n = df.shape[1]\n",
    "    mat = np.zeros((n, n))\n",
    "    for i in range(n):\n",
    "        for j in range(n):\n",
    "            mat[i][j] = f(df[df.columns[i]], df[df.columns[j]])\n",
    "    ndf = pd.DataFrame(mat, index=df.columns, columns=df.columns)\n",
    "    return ndf"
   ]
  },
  {
   "cell_type": "markdown",
   "metadata": {},
   "source": [
    "Вот они, наши хитмапы! На них показывается зависимость одних аттрибутов от других. Чем ярче цвет, тем больше зависимость. Очевидно, что один и тот же аттрибут больше всего зависит от себя самого."
   ]
  },
  {
   "cell_type": "code",
   "execution_count": 802,
   "metadata": {},
   "outputs": [
    {
     "data": {
      "image/png": "[encoded data removed]",
      "text/plain": [
       "<Figure size 864x648 with 2 Axes>"
      ]
     },
     "metadata": {},
     "output_type": "display_data"
    }
   ],
   "source": [
    "cramers_v_mat = apply(df, cramers_v)\n",
    "\n",
    "f, ax = plt.subplots(figsize=(12, 9))\n",
    "sns.heatmap(cramers_v_mat, vmax=1.0, square=True);"
   ]
  },
  {
   "cell_type": "code",
   "execution_count": 803,
   "metadata": {},
   "outputs": [
    {
     "data": {
      "text/plain": [
       "price_range      1.000000\n",
       "ram              0.728298\n",
       "battery_power    0.134059\n",
       "px_width         0.104245\n",
       "px_height        0.088845\n",
       "sc_w             0.064557\n",
       "int_memory       0.049101\n",
       "pc               0.030227\n",
       "mobile_wt        0.030146\n",
       "fc               0.028218\n",
       "sc_h             0.022923\n",
       "touch_screen     0.020965\n",
       "m_dep            0.016922\n",
       "four_g           0.009446\n",
       "wifi             0.000000\n",
       "n_cores          0.000000\n",
       "talk_time        0.000000\n",
       "dual_sim         0.000000\n",
       "clock_speed      0.000000\n",
       "blue             0.000000\n",
       "three_g          0.000000\n",
       "Name: price_range, dtype: float64"
      ]
     },
     "execution_count": 803,
     "metadata": {},
     "output_type": "execute_result"
    }
   ],
   "source": [
    "row = cramers_v_mat.iloc[20]\n",
    "row.sort_values(axis='index', ascending=False)"
   ]
  },
  {
   "cell_type": "code",
   "execution_count": 804,
   "metadata": {},
   "outputs": [
    {
     "data": {
      "image/png": "[encoded data removed]",
      "text/plain": [
       "<Figure size 864x648 with 2 Axes>"
      ]
     },
     "metadata": {},
     "output_type": "display_data"
    }
   ],
   "source": [
    "theils_u_mat = apply(df, theils_u)\n",
    "\n",
    "f, ax = plt.subplots(figsize=(12, 9))\n",
    "sns.heatmap(theils_u_mat, vmax=1.0, square=True);"
   ]
  },
  {
   "cell_type": "markdown",
   "metadata": {},
   "source": [
    "Как мы видим, цена телефона очень сильно зависит от объема оперативной памяти. Также, есть небольшая зависимость от мощности батареи, длины и ширины экрана и памяти."
   ]
  },
  {
   "cell_type": "code",
   "execution_count": 805,
   "metadata": {},
   "outputs": [
    {
     "data": {
      "text/plain": [
       "price_range      1.000000\n",
       "ram              0.606206\n",
       "battery_power    0.028431\n",
       "px_height        0.021079\n",
       "int_memory       0.020152\n",
       "px_width         0.019861\n",
       "sc_w             0.015301\n",
       "pc               0.011932\n",
       "fc               0.011919\n",
       "clock_speed      0.011866\n",
       "sc_h             0.008028\n",
       "mobile_wt        0.007467\n",
       "talk_time        0.006837\n",
       "m_dep            0.005248\n",
       "n_cores          0.003709\n",
       "touch_screen     0.000700\n",
       "four_g           0.000574\n",
       "blue             0.000258\n",
       "three_g          0.000247\n",
       "dual_sim         0.000232\n",
       "wifi             0.000154\n",
       "Name: price_range, dtype: float64"
      ]
     },
     "execution_count": 805,
     "metadata": {},
     "output_type": "execute_result"
    }
   ],
   "source": [
    "row = theils_u_mat.iloc[20]\n",
    "row.sort_values(axis='index', ascending=False)"
   ]
  },
  {
   "cell_type": "markdown",
   "metadata": {},
   "source": [
    "Строим графики. Цена подразделена на 4 категории:  \n",
    "0 - дешево  \n",
    "1 - средняя стоимость  \n",
    "2 - дорого  \n",
    "3 - очень дорого"
   ]
  },
  {
   "cell_type": "code",
   "execution_count": 806,
   "metadata": {},
   "outputs": [
    {
     "data": {
      "image/png": "[encoded data removed]",
      "text/plain": [
       "<Figure size 1800x720 with 1 Axes>"
      ]
     },
     "metadata": {},
     "output_type": "display_data"
    }
   ],
   "source": [
    "plt.figure(figsize=(25,10))\n",
    "ax=sns.countplot(x='battery_power',hue='price_range',data=df)\n",
    "\n",
    "plt.xlabel(\"battery_power\", color='black', size=25)\n",
    "plt.ylabel(\"count\", color='black', size=25)\n",
    "plt.xticks(color='black', size=20)\n",
    "plt.yticks(color='black', size=20)\n",
    "\n",
    "plt.show()"
   ]
  },
  {
   "cell_type": "code",
   "execution_count": 807,
   "metadata": {},
   "outputs": [
    {
     "data": {
      "image/png": "[encoded data removed]",
      "text/plain": [
       "<Figure size 1800x720 with 1 Axes>"
      ]
     },
     "metadata": {},
     "output_type": "display_data"
    }
   ],
   "source": [
    "plt.figure(figsize=(25,10))\n",
    "ax=sns.countplot(x='px_height',hue='price_range',data=df)\n",
    "\n",
    "plt.xlabel(\"px_height\", color='black', size=25)\n",
    "plt.ylabel(\"count\", color='black', size=25)\n",
    "plt.xticks(color='black', size=18)\n",
    "plt.yticks(color='black', size=18)\n",
    "\n",
    "plt.show()"
   ]
  },
  {
   "cell_type": "code",
   "execution_count": 808,
   "metadata": {},
   "outputs": [
    {
     "data": {
      "image/png": "[encoded data removed]",
      "text/plain": [
       "<Figure size 1800x720 with 1 Axes>"
      ]
     },
     "metadata": {},
     "output_type": "display_data"
    }
   ],
   "source": [
    "plt.figure(figsize=(25,10))\n",
    "ax=sns.countplot(x='px_width',hue='price_range',data=df)\n",
    "\n",
    "plt.xlabel(\"px_width\", color='black', size=25)\n",
    "plt.ylabel(\"count\", color='black', size=25)\n",
    "plt.xticks(color='black', size=20)\n",
    "plt.yticks(color='black', size=20)\n",
    "\n",
    "plt.show()"
   ]
  },
  {
   "cell_type": "code",
   "execution_count": 809,
   "metadata": {},
   "outputs": [
    {
     "data": {
      "image/png": "[encoded data removed]",
      "text/plain": [
       "<Figure size 1800x720 with 1 Axes>"
      ]
     },
     "metadata": {},
     "output_type": "display_data"
    }
   ],
   "source": [
    "plt.figure(figsize=(25,10))\n",
    "ax=sns.countplot(x='ram',hue='price_range',data=df)\n",
    "\n",
    "plt.xlabel(\"ram\", color='black', size=25)\n",
    "plt.ylabel(\"count\", color='black', size=25)\n",
    "plt.xticks(color='black', size=15)\n",
    "plt.yticks(color='black', size=15)\n",
    "\n",
    "plt.show()"
   ]
  },
  {
   "cell_type": "code",
   "execution_count": 810,
   "metadata": {},
   "outputs": [
    {
     "data": {
      "image/png": "[encoded data removed]",
      "text/plain": [
       "<Figure size 1800x720 with 1 Axes>"
      ]
     },
     "metadata": {},
     "output_type": "display_data"
    }
   ],
   "source": [
    "plt.figure(figsize=(25,10))\n",
    "ax=sns.countplot(x='int_memory',hue='price_range',data=df)\n",
    "\n",
    "plt.xlabel(\"int_memory\", color='black', size=25)\n",
    "plt.ylabel(\"count\", color='black', size=25)\n",
    "plt.xticks(color='black', size=20)\n",
    "plt.yticks(color='black', size=20)\n",
    "\n",
    "plt.show()"
   ]
  },
  {
   "cell_type": "markdown",
   "metadata": {},
   "source": [
    "Мы разобрались с данными. Теперь можно и приступить реализовывать саму нейросеть и обучение!  \n",
    "Возьмем только самые важные параметры для обучения, которые влияют на цену больше всего.  \n",
    "\n",
    "Так как большинство алгоритмов работают только с бинарными категориями, мы преобразуем колонку цены в 4 разных аттрибута  \n",
    "Этот аттрибут показывает 1, если телефон принадлежит к данной ценевой категории"
   ]
  },
  {
   "cell_type": "code",
   "execution_count": 1156,
   "metadata": {},
   "outputs": [],
   "source": [
    "#Лабораторная 2 - уже будем делать саму нейросеть и обучать модели\n",
    "\n",
    "from sklearn.preprocessing import StandardScaler \n",
    "from sklearn.preprocessing import MinMaxScaler\n",
    "\n",
    "best_cols = ['ram', 'battery_power', 'px_height', 'px_width', 'int_memory']\n",
    "\n",
    "x = pd.get_dummies(df[best_cols])\n",
    "\n",
    "y0 = df['price_range'].map({0 : 1, 1 : 0, 2 : 0, 3 : 0}).to_numpy()\n",
    "y1 = df['price_range'].map({0 : 0, 1 : 1, 2 : 0, 3 : 0}).to_numpy()\n",
    "y2 = df['price_range'].map({0 : 0, 1 : 0, 2 : 1, 3 : 0}).to_numpy()\n",
    "y3 = df['price_range'].map({0 : 0, 1 : 0, 2 : 0, 3 : 1}).to_numpy()\n",
    "\n",
    "y = df['price_range'].to_numpy()\n",
    "\n",
    "\n",
    "MinMax = MinMaxScaler()\n",
    "\n",
    "x = MinMax.fit_transform(x.to_numpy()) \n",
    "\n"
   ]
  },
  {
   "cell_type": "code",
   "execution_count": 1168,
   "metadata": {},
   "outputs": [],
   "source": [
    "from sklearn.model_selection import train_test_split\n",
    "from sklearn import metrics\n",
    "\n",
    "from sklearn.linear_model import LogisticRegression\n",
    "from sklearn.neighbors import KNeighborsClassifier\n",
    "from sklearn import svm\n",
    "from sklearn.tree import DecisionTreeClassifier\n",
    "from sklearn.ensemble import RandomForestClassifier\n",
    "\n",
    "from sklearn.model_selection import StratifiedKFold\n",
    "\n",
    "from sklearn import linear_model\n",
    "\n",
    "from sklearn.metrics import precision_score, recall_score, accuracy_score\n",
    "\n",
    "from sklearn.neighbors import KNeighborsClassifier\n",
    "\n",
    "from sklearn.utils import check_random_state\n",
    "\n",
    "from sklearn.tree import DecisionTreeClassifier\n",
    "from sklearn.ensemble import RandomForestClassifier\n",
    "\n",
    "from sklearn.svm import SVC\n",
    "from sklearn.model_selection import train_test_split"
   ]
  },
  {
   "cell_type": "markdown",
   "metadata": {},
   "source": [
    "# Логистическая регрессия\n",
    "Идем 4 раза по алгоритму логистической регрессии для каждой категории. Вместо бинарного ответа, мы выводим от 0 до 1 вещественный тип. Потом определяем, при какой категории это значение наибольшее - к такой категории и будет относиться телефон."
   ]
  },
  {
   "cell_type": "code",
   "execution_count": 1000,
   "metadata": {},
   "outputs": [],
   "source": [
    "class LogRegression():\n",
    "    \n",
    "    def __init__(self):\n",
    "        self.lr = 7\n",
    "        self.iters = 1024\n",
    "        \n",
    "    def add_ones(self, x):\n",
    "        return np.concatenate((np.ones((x.shape[0], 1)), x), axis=1)\n",
    "        \n",
    "    def sigmoid(self, x):\n",
    "        return 1.0 / (1.0 + np.exp(-x))\n",
    "    \n",
    "    def loss(self, h, y):\n",
    "        return (-y * np.log(h) - (1 - y) * np.log(1 - h)).mean()\n",
    "    \n",
    "    def fit(self, x, y):\n",
    "        \n",
    "        x = self.add_ones(x)\n",
    "        self.w = np.zeros(x.shape[1]) #веса\n",
    "        \n",
    "        for i in range(self.iters):\n",
    "            h = self.sigmoid(np.dot(x, self.w))\n",
    "            grad = np.dot(x.T, (h - y)) / y.size\n",
    "            self.w -= self.lr * grad\n",
    "    \n",
    "    def predict(self, x):\n",
    "        x = self.add_ones(x)\n",
    "        xW = np.dot(x, self.w)\n",
    "        return self.sigmoid(xW)\n",
    "    \n",
    "    def predictCW(self, x, ws):\n",
    "        x = self.add_ones(x)\n",
    "        xW = np.dot(x, ws)\n",
    "        return self.sigmoid(xW)"
   ]
  },
  {
   "cell_type": "code",
   "execution_count": 1070,
   "metadata": {},
   "outputs": [],
   "source": [
    "def maxClassedArrs(a, b, c, d):\n",
    "    newAr = np.zeros(a.shape)\n",
    "    for i in range(newAr.size):\n",
    "        newAr[i] = maxClassed(a[i], b[i], c[i], d[i])\n",
    "    return newAr\n",
    "\n",
    "\n",
    "def maxClassed(a, b, c, d):\n",
    "    if (a >= b and a >= c and a >= d):\n",
    "        return 0\n",
    "    elif (b >= c and b >= d):\n",
    "        return 1\n",
    "    elif (c >= d):\n",
    "        return 2\n",
    "    else:\n",
    "        return 3\n",
    "\n",
    "\n",
    "\n",
    "\n",
    "def print_res(clf, X, y, y0, y1, y2, y3, typ='noFlag', k_folds=5, average='macro'):\n",
    "    \n",
    "    kf = StratifiedKFold(n_splits=k_folds, random_state=256, shuffle=True)\n",
    "    precision = np.zeros(k_folds) \n",
    "    for i, (train_index, val_index) in enumerate(kf.split(X, y)):\n",
    "        # numpy required in case of algos realisation\n",
    "        X_train = X[train_index]\n",
    "        y0_train = y0[train_index]\n",
    "        y1_train = y1[train_index]\n",
    "        y2_train = y2[train_index]\n",
    "        y3_train = y3[train_index]\n",
    "\n",
    "\n",
    "        \n",
    "        X_val, y_val = X[val_index], y[val_index]\n",
    "\n",
    "        \n",
    "        clf.fit(X_train, y0_train)\n",
    "        y_pred0 = clf.predict(X_val)\n",
    "        if (typ == \"logR\"):\n",
    "            w0 = clf.w\n",
    "        \n",
    "        clf.fit(X_train, y1_train)\n",
    "        y_pred1 = clf.predict(X_val)\n",
    "        if (typ == \"logR\"):\n",
    "            w1 = clf.w\n",
    "        \n",
    "        clf.fit(X_train, y2_train)\n",
    "        y_pred2 = clf.predict(X_val)\n",
    "        if (typ == \"logR\"):\n",
    "            w2 = clf.w\n",
    "        \n",
    "        clf.fit(X_train, y3_train)\n",
    "        y_pred3 = clf.predict(X_val)\n",
    "        if (typ == \"logR\"):\n",
    "            w3 = clf.w\n",
    "        \n",
    "        y_pred = maxClassedArrs(y_pred0, y_pred1, y_pred2, y_pred3)\n",
    " \n",
    "        \n",
    "        precision[i] = precision_score(y_val, y_pred, average=average)\n",
    "        \n",
    "    if (typ == \"logR\"):\n",
    "        return precision, w0, w1, w2, w3\n",
    "    else:\n",
    "        return precision\n",
    "\n",
    "\n",
    "def print_res2(clf, X, y, k_folds=5, average='macro'):\n",
    "    \n",
    "    kf = StratifiedKFold(n_splits=k_folds, random_state=256, shuffle=True)\n",
    "    precision = np.zeros(k_folds) \n",
    "    for i, (train_index, val_index) in enumerate(kf.split(X, y)):\n",
    "        # numpy required in case of algos realisation\n",
    "        X_train = X[train_index]\n",
    "        y_train = y[train_index]\n",
    "\n",
    "        X_val, y_val = X[val_index], y[val_index]\n",
    "        \n",
    "        clf.fit(X_train, y_train)\n",
    "        y_pred = clf.predict(X_val)\n",
    "        \n",
    "        precision[i] = precision_score(y_val, y_pred, average=average)\n",
    "    return precision\n",
    "\n",
    "\n"
   ]
  },
  {
   "cell_type": "markdown",
   "metadata": {},
   "source": [
    "Как мы видим, моя реализация работает немного хуже той, что в библиотеке. Но результат все равно довольно неплохой, 86% успеха правильно определить категорию. Скорее всего, логистическая мультиномиальная регрессия намного сложнее, чем я попробовал описать, поэтому, и точность уже встроенной программы больше."
   ]
  },
  {
   "cell_type": "code",
   "execution_count": 1012,
   "metadata": {
    "scrolled": true
   },
   "outputs": [
    {
     "name": "stdout",
     "output_type": "stream",
     "text": [
      "Precision score: 0.93727 (+/- 0.02140)\n",
      "Precision score: 0.86106 (+/- 0.04268)\n"
     ]
    }
   ],
   "source": [
    "\n",
    "mulLR = linear_model.LogisticRegression(multi_class='multinomial', solver='newton-cg').fit(x, y)\n",
    "ansPrec = print_res2(mulLR, x, y)\n",
    "print(\"Precision score: %0.5f (+/- %0.5f)\" % (ansPrec.mean(), ansPrec.std() * 2))\n",
    "\n",
    "\n",
    "mulLRmy = LogRegression()\n",
    "ansPrec2 = print_res(mulLRmy, x, y, y0, y1, y2, y3, \"logR\")\n",
    "print(\"Precision score: %0.5f (+/- %0.5f)\" % (ansPrec2[0].mean(), ansPrec2[0].std() * 2))"
   ]
  },
  {
   "cell_type": "markdown",
   "metadata": {},
   "source": [
    "Можно придумать и свои примеры, и посмотреть, как нейросеть определит цену придуманных телефонов."
   ]
  },
  {
   "cell_type": "code",
   "execution_count": 1013,
   "metadata": {},
   "outputs": [
    {
     "name": "stdout",
     "output_type": "stream",
     "text": [
      "     ram  battery_power  px_height  px_width  int_memory\n",
      "0   3100           1900        900      1600          36\n",
      "1   2400           1600       1000      1800          32\n",
      "2   2200           1800        800      1200          30\n",
      "3   2000           1900        700      1300          32\n",
      "4   3300           1100        800      1500          32\n",
      "5   2900           1200       1000      1400          24\n",
      "6   2100           1000        600      1200          28\n",
      "7   2500            900        600      1200          32\n",
      "8    700           1700        500       800          16\n",
      "9    600           1900        800      1200          20\n",
      "10   300            500          0       500           2\n",
      "11  4000           2000       2000      2000          64\n"
     ]
    }
   ],
   "source": [
    "#Придумаем свои примеры\n",
    "with open('myDB.csv', 'w') as myfile:\n",
    "    wr = csv.writer(myfile, delimiter=',',\n",
    "                            quotechar='|', quoting=csv.QUOTE_MINIMAL)\n",
    "    wr.writerow(['ram', 'battery_power', 'px_height', 'px_width', 'int_memory'])\n",
    "    wr.writerow([3100, 1900, 900, 1600, 36])\n",
    "    wr.writerow([2400, 1600, 1000, 1800, 32])\n",
    "    wr.writerow([2200, 1800, 800, 1200, 30])\n",
    "    wr.writerow([2000, 1900, 700, 1300, 32])\n",
    "    wr.writerow([3300, 1100, 800, 1500, 32])\n",
    "    wr.writerow([2900, 1200, 1000, 1400, 24])\n",
    "    wr.writerow([2100, 1000, 600, 1200, 28])\n",
    "    wr.writerow([2500, 900, 600, 1200, 32])\n",
    "    wr.writerow([700, 1700, 500, 800, 16])\n",
    "    wr.writerow([600, 1900, 800, 1200, 20])\n",
    "    wr.writerow([300, 500, 0, 500, 2]) #worst phone ever\n",
    "    wr.writerow([4000, 2000, 2000, 2000, 64]) #best phone ever\n",
    "    \n",
    "myDF = pd.read_csv(\"myDB.csv\").drop_duplicates()   \n",
    "\n",
    "best_cols = ['ram', 'battery_power', 'px_height', 'px_width', 'int_memory']\n",
    "\n",
    "xNew = pd.get_dummies(myDF[best_cols])\n",
    "print(xNew)\n",
    "\n",
    "MinMax = MinMaxScaler()\n",
    "\n",
    "xNew = MinMax.fit_transform(xNew.to_numpy()) \n"
   ]
  },
  {
   "cell_type": "markdown",
   "metadata": {},
   "source": [
    "Вроде неплохо"
   ]
  },
  {
   "cell_type": "code",
   "execution_count": 1015,
   "metadata": {},
   "outputs": [
    {
     "name": "stdout",
     "output_type": "stream",
     "text": [
      "Prices:\n",
      "[3. 2. 2. 1. 3. 2. 2. 2. 0. 0. 0. 3.]\n"
     ]
    }
   ],
   "source": [
    "print(\"Prices:\")\n",
    "\n",
    "clf = LogRegression()\n",
    "\n",
    "w0 = ansPrec2[1]\n",
    "w1 = ansPrec2[2]\n",
    "w2 = ansPrec2[3]\n",
    "w3 = ansPrec2[4]\n",
    "\n",
    "\n",
    "y_pred0 = clf.predictCW(xNew, w0)\n",
    "        \n",
    "y_pred1 = clf.predictCW(xNew, w1)\n",
    "        \n",
    "y_pred2 = clf.predictCW(xNew, w2)\n",
    "        \n",
    "y_pred3 = clf.predictCW(xNew, w3)\n",
    "\n",
    "\n",
    "y_pred = maxClassedArrs(y_pred0, y_pred1, y_pred2, y_pred3)\n",
    "\n",
    "print(y_pred)\n"
   ]
  },
  {
   "cell_type": "markdown",
   "metadata": {},
   "source": [
    "# K ближайших соседей\n",
    "Так же, определяем коэффициент для каждого типа и выбираем наиболее подходящий. Как мы видим, что даже уже встроенная реализация работает не так хорошо, как предыдущий алгоритм. Моя реализация лишь чуть-чуть уступает, меньше 1% разницы в точности."
   ]
  },
  {
   "cell_type": "code",
   "execution_count": 1016,
   "metadata": {},
   "outputs": [],
   "source": [
    "class KNN():\n",
    "    def __init__(self, nbrs=10):\n",
    "        self.nbrs = nbrs\n",
    "    \n",
    "    def fit(self, x, y):\n",
    "        self.x = x\n",
    "        self.y = y.reshape((y.shape[0], 1))\n",
    "\n",
    "    def get_dists(self, p):\n",
    "        d = self.x - p\n",
    "        return np.sqrt((d**2).sum(1))\n",
    "\n",
    "    def predict(self, X):\n",
    "        n = X.shape[0]\n",
    "        y_pred = np.zeros((n, 1))\n",
    "        for i in range(n):\n",
    "            dist = self.get_dists(X[i])\n",
    "            \n",
    "            y_sort = self.y[np.argsort(dist)].flatten()\n",
    "\n",
    "            if y_sort[:self.nbrs].sum() > self.nbrs / 2:\n",
    "                y_pred[i] = 1.0\n",
    "        \n",
    "        return y_pred"
   ]
  },
  {
   "cell_type": "code",
   "execution_count": 1020,
   "metadata": {},
   "outputs": [
    {
     "name": "stdout",
     "output_type": "stream",
     "text": [
      "Precision score: 0.85037 (+/- 0.02135)\n",
      "Precision score: 0.84297 (+/- 0.02070)\n"
     ]
    }
   ],
   "source": [
    "\n",
    "\n",
    "KNNnotMy = KNeighborsClassifier(n_neighbors=5).fit(x, y)\n",
    "ansKNN = print_res2(KNNnotMy, x, y)\n",
    "print(\"Precision score: %0.5f (+/- %0.5f)\" % (ansKNN.mean(), ansKNN.std() * 2))\n",
    "\n",
    "\n",
    "KNNmy = KNN(nbrs=5)\n",
    "ansKNN2 = print_res(KNNmy, x, y, y0, y1, y2, y3)\n",
    "print(\"Precision score: %0.5f (+/- %0.5f)\" % (ansKNN2.mean(), ansKNN2.std() * 2))\n"
   ]
  },
  {
   "cell_type": "markdown",
   "metadata": {},
   "source": [
    "# Метод опорных векторов  \n",
    "У меня получилась реализация похуже, чем та, которая уже есть в библиотеке. Но все равно больше 50% правильных ответов, что показывает, что она все же работает. Этот метод я понял совсем плохо и часть кода нашел где-то, но сильно помогло то, что как и в методе логистической регрессии, мы выводим числа, а потом сравниваем для каждой категории. Определение категории немного сложнее, чем выбор одного из 2 вариантов. Библиотечная реализация тут показывает лучший результат, моя же реализация - худший из всех методов."
   ]
  },
  {
   "cell_type": "code",
   "execution_count": 1114,
   "metadata": {},
   "outputs": [],
   "source": [
    "class SVM:\n",
    "    def __init__(self, alpha=0.001, eta=0.1, eps=0.0001, ticks=50):\n",
    "        self.ticks = ticks\n",
    "        self.eta = eta\n",
    "        self.alpha = alpha\n",
    "        self.eps = eps\n",
    "        self.prLoss = float('inf')\n",
    "    \n",
    "    def fit(self, X, y, verbose=False):\n",
    "        X = self.extend(np.array(X))\n",
    "        y = np.array(y)\n",
    "        \n",
    "        for i in range(len(y)):\n",
    "            if y[i] == 0.0:\n",
    "                y[i] = -1.0\n",
    "\n",
    "        self.w = np.random.normal(size=X.shape[1])\n",
    "        \n",
    "        ticks = 0\n",
    "        while True:\n",
    "            loss = 0\n",
    "            for i, x in enumerate(X):\n",
    "                margin = y[i] * np.dot(self.w, x)\n",
    "                if margin >= 1:\n",
    "                    self.w = self.w - self.eta * self.alpha * self.w / self.ticks\n",
    "                else:\n",
    "                    self.w = self.w + self.eta * (y[i] * x - self.alpha * self.w / self.ticks)\n",
    "                loss += self.soft_margin_loss(x, y[i])\n",
    "            if ticks == self.ticks or abs(self.prLoss - loss) <= self.eps:\n",
    "                return\n",
    "            \n",
    "            self.prLoss = loss\n",
    "            ticks += 1\n",
    "            \n",
    "    def predict(self, X):\n",
    "        X_ext = self.extend(np.array(X))\n",
    "        return np.array([np.dot(self.w, x) for x in X_ext])\n",
    "    \n",
    "    def extend(self, x):\n",
    "        x_extended = np.zeros((x.shape[0], x.shape[1] + 1))\n",
    "        x_extended[:,:-1] = x\n",
    "        x_extended[:,-1] = int(1)  \n",
    "        return x_extended\n",
    "    \n",
    "    def hinge_loss(self, x, y):\n",
    "        return max(0, 1 - y * np.dot(x, self.w))\n",
    "    \n",
    "    def soft_margin_loss(self, x, y):\n",
    "        return self.hinge_loss(x, y) + self.alpha * np.dot(self.w, self.w) / 2"
   ]
  },
  {
   "cell_type": "code",
   "execution_count": 1115,
   "metadata": {},
   "outputs": [
    {
     "name": "stdout",
     "output_type": "stream",
     "text": [
      "Precision score: 0.94858 (+/- 0.01680)\n",
      "\n",
      "Precision score: 0.78210 (+/- 0.10343)\n"
     ]
    }
   ],
   "source": [
    "SVMnm = SVC(kernel='linear').fit(x, y)\n",
    "ansSVM = print_res2(SVMnm, x, y)\n",
    "print(\"Precision score: %0.5f (+/- %0.5f)\" % (ansSVM.mean(), ansSVM.std() * 2))\n",
    "\n",
    "\n",
    "\n",
    "SVMmy = SVM()\n",
    "ansSVM2 = print_res(SVMmy, x, y, y0, y1, y2, y3)\n",
    "print()\n",
    "print(\"Precision score: %0.5f (+/- %0.5f)\" % (ansSVM2.mean(), ansSVM2.std() * 2))"
   ]
  },
  {
   "cell_type": "markdown",
   "metadata": {},
   "source": [
    "# Метод дерева решений  \n",
    "Признаюсь, что часть кода снова взял где-то. Так как я всю ночь разбираюсь, я успел сильно устать, + времени осталось не так много. Решающие деревья чем-то похожи на экспертные системы, мы проходим по узлам и можно сказать, отвечаем на \"вопросы\", в которые мы преобразуем данные. Поставив большую глубину, мне удалось получить наибольшую пока что точность - 88%. Примерно такую же (даже чуть ниже, но также зависит от случайных чисел, которые генерируются в реализации) дает точность реализация из библиотеки. И данный метод хорошо работает с несколькими категориями, не приходится решать для каждой категории отдельно."
   ]
  },
  {
   "cell_type": "code",
   "execution_count": 1333,
   "metadata": {},
   "outputs": [],
   "source": [
    "class Node():\n",
    "    def __init__(self, predicted_class):\n",
    "        self.predicted_class = predicted_class\n",
    "        self.feature_index = 0\n",
    "        self.threshold = 0\n",
    "        self.left = None\n",
    "        self.right = None\n",
    "\n",
    "\n",
    "class DecisionTree():\n",
    "    def __init__(self, max_depth=20, rf=False):\n",
    "        self.max_depth = max_depth\n",
    "        self.feature_prun = 0.1\n",
    "        self.rf = rf\n",
    "\n",
    "    def fit(self, X, y, max_features=None):\n",
    "        self.n_classes_ = len(set(y))\n",
    "        if not self.rf:\n",
    "            n_features_ = X.shape[1]\n",
    "        else:\n",
    "            ind = np.random.choice(X.shape[0], X.shape[0])\n",
    "            X, y = X[tuple([ind])], y[tuple([ind])]\n",
    "            if max_features is None:\n",
    "                n_features_ = np.ceil(np.sqrt(X.shape[1]*4)).astype(int)\n",
    "            else:\n",
    "                n_features_ = max_features\n",
    "                \n",
    "        self.features_ = np.sort(np.random.choice(X.shape[1], n_features_,\n",
    "                                                  replace=False))\n",
    "        self.tree_ = self._grow_tree(X, y, self.rf)\n",
    "\n",
    "    def predict(self, X):\n",
    "        return np.array([self._predict(inputs) for inputs in X])\n",
    "\n",
    "    def _best_split(self, X, y, rf):\n",
    "        m = y.size\n",
    "        if m <= 1:\n",
    "            return None, None\n",
    "        num_parent = [np.sum(y == c) for c in range(self.n_classes_)]\n",
    "        best_gini = 1.0 - sum((n / m) ** 2 for n in num_parent)\n",
    "        best_idx, best_thr = None, None\n",
    "        for idx in self.features_:\n",
    "            thresholds, classes = zip(*sorted(zip(X[:, idx], y)))\n",
    "            num_left = [0] * self.n_classes_\n",
    "            num_right = num_parent.copy()\n",
    "            for i in range(1, m):\n",
    "                c = classes[i - 1]\n",
    "                num_left[c] += 1\n",
    "                num_right[c] -= 1\n",
    "                gini_left = 1.0 - sum(\n",
    "                    (num_left[x] / i) ** 2 for x in range(self.n_classes_)\n",
    "                )\n",
    "                gini_right = 1.0 - sum(\n",
    "                    (num_right[x] / (m - i)) ** 2 for x in range(self.n_classes_)\n",
    "                )\n",
    "                gini = (i * gini_left + (m - i) * gini_right) / m\n",
    "                if thresholds[i] == thresholds[i - 1]:\n",
    "                    continue\n",
    "                if gini < best_gini:\n",
    "                    best_gini = gini\n",
    "                    best_idx = idx\n",
    "                    best_thr = (thresholds[i] + thresholds[i - 1]) / 2\n",
    "        return best_idx, best_thr\n",
    "\n",
    "    def _grow_tree(self, X, y, rf, depth=0):\n",
    "        num_samples_per_class = [np.sum(y == i)\n",
    "                                 for i in range(self.n_classes_)]\n",
    "        predicted_class = np.argmax(num_samples_per_class)\n",
    "        node = Node(predicted_class=predicted_class)\n",
    "        if depth < self.max_depth:\n",
    "            idx, thr = self._best_split(X, y, rf)\n",
    "            if idx is not None:\n",
    "                indices_left = X[:, idx] < thr\n",
    "                X_left, y_left = X[indices_left], y[indices_left]\n",
    "                X_right, y_right = X[~indices_left], y[~indices_left]\n",
    "                node.feature_index = idx\n",
    "                node.threshold = thr\n",
    "                node.left = self._grow_tree(X_left, y_left, rf, depth + 1)\n",
    "                node.right = self._grow_tree(X_right, y_right, rf, depth + 1)\n",
    "        return node\n",
    "\n",
    "    def _predict(self, inputs):\n",
    "        node = self.tree_\n",
    "        while node.left:\n",
    "            if inputs[node.feature_index] < node.threshold:\n",
    "                node = node.left\n",
    "            else:\n",
    "                node = node.right\n",
    "        return node.predicted_class"
   ]
  },
  {
   "cell_type": "code",
   "execution_count": 1328,
   "metadata": {},
   "outputs": [
    {
     "name": "stdout",
     "output_type": "stream",
     "text": [
      "Precision score: 0.87530 (+/- 0.02849)\n",
      "Precision score: 0.88077 (+/- 0.02149)\n"
     ]
    }
   ],
   "source": [
    "DTreenm = DecisionTreeClassifier().fit(x, y)\n",
    "ansDTree = print_res2(DTreenm, x, y)\n",
    "print(\"Precision score: %0.5f (+/- %0.5f)\" % (ansDTree.mean(), ansDTree.std() * 2))\n",
    "\n",
    "\n",
    "DTreemy = DecisionTree()\n",
    "ansDTree2 = print_res2(DTreemy, x, y)\n",
    "print(\"Precision score: %0.5f (+/- %0.5f)\" % (ansDTree2.mean(), ansDTree2.std() * 2))"
   ]
  },
  {
   "cell_type": "markdown",
   "metadata": {},
   "source": [
    "# Метод рандомного леса  \n",
    "Заключается в многократном решении деревьев решений. Каждый раз генерирует уникальные деревья решений (n_ests - количество деревьев решений). Решает их и выводит наиболее частую категорию. Очень долго разбирался и заметил, что размер выборки очень сильно влияет на результат. Он выбирается изначально в результате корня количества параметров. Также у меня округление вниз было и при размере выборки = 2 показывало очень плохие результаты. В итоге я изменил формулу, сделал округление вверх и умножил на два. Теперь программа работает немного медленнее, но зато дает лучшие результаты - 0.90! Выходит, что для данного датасета - метод случайного леса - лучший."
   ]
  },
  {
   "cell_type": "code",
   "execution_count": 1338,
   "metadata": {},
   "outputs": [],
   "source": [
    "class RandomForest():\n",
    "    def __init__(self, max_depth=15, n_ests=20, max_features=None):\n",
    "        self.max_depth = max_depth\n",
    "        self.max_features = max_features\n",
    "        self.n_ests = n_ests\n",
    "        self.forest = [None] * n_ests\n",
    "\n",
    "    def fit(self, X, y):\n",
    "        for i in range(self.n_ests):\n",
    "            self.forest[i] = DecisionTree(max_depth=self.max_depth, rf=True) \n",
    "            self.forest[i].fit(X, y)\n",
    "\n",
    "    def predict(self, X):\n",
    "        most_cmn = np.zeros(X.shape[0])\n",
    "        preds = np.zeros((self.n_ests, X.shape[0]))\n",
    "        for i in range(self.n_ests):\n",
    "            preds[i] = self.forest[i].predict(X)\n",
    "        for i in range(len(most_cmn)):\n",
    "            most_cmn[i] = Counter(preds[:, i]).most_common(1)[0][0]\n",
    "        return most_cmn"
   ]
  },
  {
   "cell_type": "code",
   "execution_count": 1339,
   "metadata": {},
   "outputs": [
    {
     "name": "stdout",
     "output_type": "stream",
     "text": [
      "Precision score: 0.89634 (+/- 0.02773)\n",
      "Precision score: 0.90194 (+/- 0.01903)\n"
     ]
    }
   ],
   "source": [
    "rfLib = RandomForestClassifier(max_depth=20, n_estimators=10, random_state=0).fit(x, y)\n",
    "ansRF = print_res2(rfLib, x, y)\n",
    "print(\"Precision score: %0.5f (+/- %0.5f)\" % (ansRF.mean(), ansRF.std() * 2))\n",
    "\n",
    "\n",
    "rfMy = RandomForest(max_depth=20, n_ests=10)\n",
    "ansRF2 = print_res2(rfMy, x, y)\n",
    "print(\"Precision score: %0.5f (+/- %0.5f)\" % (ansRF2.mean(), ansRF2.std() * 2))"
   ]
  },
  {
   "cell_type": "markdown",
   "metadata": {},
   "source": [
    "# Вывод:  \n",
    "Существует множество различных моделей обучения, алгоритмов, предназначенных для классификации.  \n",
    "Мне попался более сложный датасет, так как тут классификация не бинарная, а имеет 4 типа.  \n",
    "Мне удалось решить задачу, опробовав 5 различных методов, и для данной базы данных для определения стоимости телефона по его характеристикам наибольшую точность показал метод случайного леса, который основан на методе дерева решений, который кстати показал 2 по эффективности результат.\n",
    "Среди этих же алгоритмов, которые были уже вшиты в библиотеку, лучший результат показал самый первый метод - логистической регрессии. У меня реализация оказалась примерно в 2 раза хуже (в библиотечной реализации ошибка ~ 7%, в моей - около 14%). Скорее всего, я просто не совсем понял, как работать с небинарной классификацией, поэтому и результаты такие. Вывод - для каждой задачи наиболее эффективным является свой метод. Для какой-то метод KNN может быть лучшим, для другой - логистическая регрессия, для третьей - SVM, для четвертой - метод дерева решений или лес. Поэтому, стоит опробовать все, и потом уже решить, что лучше всего подходит для обучения. Последние 2 метода довольно долго работают, поэтому иногда можно пренебречь точностью ради более быстрого обучения. Сейчас, я проделаю все то же самое со вторым датасетом, но он будет попроще - в нем бинарная классификация."
   ]
  },
  {
   "cell_type": "code",
   "execution_count": null,
   "metadata": {},
   "outputs": [],
   "source": []
  }
 ],
 "metadata": {
  "kernelspec": {
   "display_name": "Python 3",
   "language": "python",
   "name": "python3"
  },
  "language_info": {
   "codemirror_mode": {
    "name": "ipython",
    "version": 3
   },
   "file_extension": ".py",
   "mimetype": "text/x-python",
   "name": "python",
   "nbconvert_exporter": "python",
   "pygments_lexer": "ipython3",
   "version": "3.7.7"
  }
 },
 "nbformat": 4,
 "nbformat_minor": 4
}
